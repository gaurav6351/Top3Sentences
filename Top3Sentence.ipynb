{
 "cells": [
  {
   "cell_type": "code",
   "execution_count": 1,
   "metadata": {
    "collapsed": false
   },
   "outputs": [
    {
     "name": "stdout",
     "output_type": "stream",
     "text": [
      "defaultdict(<type 'int'>, {u'colleges': 1, u'since': 1, u'consider': 2, u'dynamic': 1, u'focus': 1, u'yellow': 1, u'hanging': 1, u'go': 3, u'issues': 1, u'relationships': 2, u'jessie': 3, u'young': 3, u'sweltering': 1, u'popularity': 1, u'friendly': 1, u'smartphone': 1, u'broadly': 1, u'far': 1, u'smack': 1, u'facebook': 7, u'vast': 2, u'cool': 1, u'school': 6, u'--': 4, u'posts': 1, u'joined': 1, u'becker': 3, u'heading': 2, u'wannabes': 1, u'neighborhood': 1, u'instagram': 3, u'findings': 1, u'jump': 1, u'video': 1, u'friendships': 2, u'even': 3, u'witnessed': 1, u'interactions': 5, u'networks': 2, u'current': 1, u'new': 6, u'increasing': 1, u'understanding': 1, u'hours': 2, u'met': 3, u'meet': 2, u'change': 2, u'remark': 1, u'kids': 1, u'attending': 1, u'study': 1, u'allows': 1, u'survey': 4, u'social': 18, u'via': 1, u'followed': 1, u'family': 1, u'highly': 1, u'aimed': 1, u'total': 1, u'plot': 1, u'confidence': 2, u'remains': 1, u'texting': 3, u'two': 3, u'next': 1, u'call': 1, u'iphone': 1, u'face-to-face': 1, u'taken': 1, u'teen': 1, u'``': 12, u'aware': 1, u'warn': 1, u'entwined': 1, u'abundance': 1, u'account': 1, u'mall': 1, u'nine': 1, u'making': 1, u'control': 1, u'share': 1, u'high': 3, u'handle': 1, u'information': 2, u'six': 2, u'occasionally': 1, u'gaming': 4, u'communicating': 1, u'may': 1, u'earlier': 1, u'fueled': 1, u'authentic': 2, u'ambivalent': 1, u'complexity': 1, u'maintain': 1, u'things': 1, u'every': 3, u'playing': 2, u'talk': 3, u'amplifying': 1, u'years': 1, u'replies': 1, u'charting': 1, u'budding': 1, u'adolescence': 1, u'25': 1, u'personal': 1, u'better': 1, u'choose': 1, u'weeks': 1, u'easier': 1, u'coffee': 1, u'evening': 1, u'conversations': 1, u'males': 1, u'rosalind': 1, u'half': 4, u'front': 1, u'day': 2, u'worlds': 1, u'always': 1, u'university': 2, u'found': 1, u'went': 1, u'friendship': 1, u'mean': 1, u'generation': 1, u'experts': 1, u'hard': 1, u'authenticity': 1, u'84': 1, u'85': 1, u'network': 1, u'aspiring': 1, u'research': 3, u'strangers': 2, u'offline': 1, u'shows': 1, u'associate': 1, u'like': 5, u'houses': 1, u'completely': 2, u'director': 1, u'befriended': 1, u'interaction': 1, u'could': 3, u'days': 2, u'times': 1, u'thing': 1, u'american': 1, u'place': 2, u'arlington': 1, u'austin': 1, u'think': 1, u'first': 2, u'feel': 4, u'coding': 1, u'one': 4, u'another': 1, u'reached': 1, u'engineer': 1, u'meaningful': 1, u'girls': 2, u'least': 3, u'friend': 2, u'hurtful': 1, u'took': 3, u'part': 1, u'10': 3, u'13': 1, u'anxiety': 1, u'17': 2, u'see': 1, u'youth': 2, u'speaking': 1, u'toward': 1, u'powers': 1, u'chloe': 1, u'strengthen': 1, u'fights': 1, u'ages': 1, u'teenagers': 1, u'say': 9, u'three-quarters': 2, u'seen': 1, u'able': 1, u'chasion': 2, u'note': 1, u'also': 5, u'online': 16, u'play': 4, u'sure': 1, u'megan': 3, u'react': 1, u'connected': 3, u'remarks': 1, u'clear': 1, u'sometimes': 2, u'implications': 1, u'drive': 1, u'saying': 2, u'particularly': 2, u'summer': 1, u'text': 2, u'queen': 1, u'discovered': 2, u'spaces': 1, u'carefully': 2, u'corner': 1, u'overwhelmed': 1, u'busy': 1, u'going': 1, u'surveyed': 1, u'carolina': 1, u'wearing': 1, u'hit': 1, u'kind': 1, u'reputations': 1, u'nearly': 2, u'shared': 1, u'report': 1, u'shaping': 1, u'communicates': 1, u'18-year-old': 1, u'common': 1, u'activity': 2, u'amanda': 1, u'playstation': 1, u'blurred': 1, u'intensity': 2, u'computer': 1, u'college': 1, u'greece': 1, u'close': 2, u'august': 1, u'said': 8, u'hackathons': 1, u'ways': 1, u'sites': 1, u'pressures': 1, u'outside': 1, u'teens': 18, u'responses': 1, u'missing': 1, u'friended': 1, u'curated': 1, u'many': 2, u'invited': 1, u'according': 2, u'games': 6, u'gamer': 1, u'comment': 1, u'among': 1, u'point': 1, u'ca': 1, u'others': 1, u'gleaming': 1, u'laugh': 1, u'respect': 1, u'pile-on': 1, u'oliver': 1, u'west': 1, u'create': 1, u'quickly': 1, u'lenhart': 1, u'much': 3, u'territory': 1, u'meeting': 3, u'life': 1, u'alongside': 1, u'dismiss': 1, u'else': 1, u'lives': 4, u'child': 1, u'present': 1, u'homes': 1, u'tank': 1, u'appearance': 1, u\"n't\": 2, u'shops': 1, u'natives': 1, u'almost': 1, u'audiences': 1, u'technology': 2, u'worry': 1, u'grown': 1, u'different': 2, u'harsh': 1, u'author': 2, u'media': 12, u'make': 1, u'speaker': 1, u'gets': 1, u'events': 2, u'one-hour': 1, u'development': 1, u'meets': 1, u'used': 1, u'd.c.': 1, u'closest': 1, u'banter': 1, u'tops': 1, u'effect': 1, u'kik': 1, u'grappling': 1, u'frequently': 2, u'recent': 1, u'center': 2, u'person': 6, u'contact': 2, u'researchers': 1, u'duty': 1, u'1,060': 1, u'neon': 1, u'valuable': 1, u'virtual': 1, u'immediately': 1, u'yet': 2, u'web': 1, u'majority': 4, u'parents': 2, u'teenager': 1, u'wiseman': 1, u'real': 1, u'around': 1, u'big': 2, u'virginia': 1, u'game': 2, u'know': 1, u'world': 2, u'feelings': 2, u'apart': 1, u'59': 1, u'adams': 2, u'stranger': 1, u'extracurriculars': 1, u'53': 1, u\"'ve\": 3, u'benefit': 1, u'popular': 2, u'become': 1, u'page': 1, u'crafted': 1, u'joking': 1, u'people': 8, u'twitter': 2, u'platforms': 2, u'images': 2, u'home': 1, u'matching': 1, u'pew': 4, u'everything': 1, u'connecting': 1, u'use': 1, u'pressure': 2, u'taboo': 1, u'refuge': 1, u'in-depth': 1, u'lacked': 1, u'communication': 1, u'image': 1, u'snapchat': 1, u'over-share': 1, u'often': 1, u'confident': 1, u'spending': 2, u'apps': 2, u'fight': 1, u'bees': 1, u'lot': 1, u'fresman': 1, u'music': 1, u'happy': 1, u'north': 1, u'invite': 1, u'form': 1, u'relaxed': 1, u'boys': 5, u'line': 1, u'trying': 2, u'kinney': 1, u'made': 1, u'yorktown': 1, u'cruel': 1, u'piece': 1, u'sort': 2, u'devastating': 1, u'constant': 1, u'adults': 1, u'year': 1, u'one-third': 1, u'deep': 2, u\"''\": 11, u'together': 1, u'multitask1021': 1, u'identities': 2, u'check': 1, u'compared': 1, u\"'ll\": 3, u'percent': 6, u'40': 1, u'interested': 1, u'digital': 4, u'really': 1, u'in-person': 1, u\"'s\": 4, u'users': 1, u'separate': 1, u'stay': 3, u'important': 1, u\"'m\": 1, u'friends': 15, u'tricky': 1, u'younger': 1, u'daily': 2, u'tysons': 2, u'presenting': 1, u'time': 2, u'abounds': 1})\n",
      "defaultdict(<type 'int'>, {0: 58, 1: 82, 2: 37, 3: 86, 4: 63, 5: 150, 6: 65, 7: 29, 8: 100, 9: 107, 10: 59, 11: 101, 12: 53, 13: 27, 14: 21, 15: 59, 16: 41, 17: 63, 18: 72, 19: 75, 20: 32, 21: 76, 22: 66, 23: 39, 24: 53, 25: 69, 26: 8, 27: 72, 28: 16, 29: 25, 30: 58, 31: 69, 32: 71, 33: 67, 34: 30, 35: 36, 36: 78, 37: 99, 38: 81, 39: 65, 40: 28, 41: 16, 42: 5, 43: 46, 44: 4, 45: 85, 46: 18, 47: 18, 48: 40, 49: 9, 50: 39, 51: 19, 52: 38, 53: 65, 54: 23, 55: 12, 56: 5, 57: 10, 58: 12, 59: 24, 60: 41, 61: 37})\n",
      "\"The digital world has taken its place alongside school and friends' houses and extracurriculars as a place where teens go to make and strengthen friendships,\" said Amanda Lenhart, author of the report \"Teens, Technology & Friendships\" and an associate director of research at Pew.\n",
      "Researchers note how teens worry about missing out on conversations on social media, focus with increasing intensity on their online appearance, and react to the amplifying effect of social media.\n",
      "\"Young people are very aware that people have highly curated images and that text fights can quickly go out of control and they are trying to sort it all out,\" said Rosalind Wiseman, author of \"Queen Bees and Wannabes\" and speaker on youth issues.\n"
     ]
    }
   ],
   "source": [
    "import urllib2\n",
    "from bs4 import BeautifulSoup\n",
    "from nltk.tokenize import sent_tokenize,word_tokenize\n",
    "from collections import defaultdict\n",
    "from nltk.corpus import stopwords\n",
    "from string import punctuation\n",
    "\n",
    "from heapq import nlargest\n",
    "\n",
    "\n",
    "def get_only_text_washington_post_url(url):\n",
    "\n",
    "    hdr = {'User-Agent': 'Mozilla/5.0 (X11; Linux x86_64) AppleWebKit/537.11 (KHTML, like Gecko) Chrome/23.0.1271.64 Safari/537.11',\n",
    "       'Accept': 'text/html,application/xhtml+xml,application/xml;q=0.9,*/*;q=0.8',\n",
    "       'Accept-Charset': 'ISO-8859-1,utf-8;q=0.7,*;q=0.3',\n",
    "       'Accept-Encoding': 'none',\n",
    "       'Accept-Language': 'en-US,en;q=0.8',\n",
    "       'Connection': 'keep-alive'}\n",
    "    \n",
    "    req = urllib2.Request(url, headers=hdr)\n",
    "    \n",
    "    page = urllib2.urlopen(req)\n",
    "    \n",
    "    soup = BeautifulSoup(page,\"lxml\")\n",
    "\n",
    "    text = ' '.join(map(lambda p: p.text, soup.find_all('article')))\n",
    "\n",
    "    return soup.title.text, text\n",
    "\n",
    "someUrl = \"https://www.washingtonpost.com/news/the-switch/wp/2015/08/06/why-kids-are-meeting-more-strangers-online-than-ever-before/\"\n",
    "\n",
    "\n",
    "textOfUrl = get_only_text_washington_post_url(someUrl)\n",
    "sent= sent_tokenize(textOfUrl[1])\n",
    "\n",
    "word_sent = [word_tokenize(s.lower()) for s in sent]\n",
    "\n",
    "freq = defaultdict(int)\n",
    "\n",
    "ranking = defaultdict(int)\n",
    "\n",
    "topwords = set(stopwords.words('english') + list(punctuation))\n",
    "\n",
    "#compue frequency of each word in each sentence\n",
    "for w in word_sent:\n",
    "    for q in w:\n",
    "        if q not in topwords:\n",
    "            freq[q] += 1\n",
    "print freq\n",
    "\n",
    "#weight the sentence using frequecny \n",
    "for i,sent1 in enumerate(word_sent):\n",
    "    for q in sent1:\n",
    "        if q in freq:\n",
    "            ranking[i] += freq[q]\n",
    "            \n",
    "print ranking\n",
    "            \n",
    "#find out top 3 largest index of sentence\n",
    "sents_idx = nlargest(3, ranking, key=ranking.get)\n",
    "\n",
    "#print those sentence \n",
    "for se in sents_idx:\n",
    "    print sent[se]\n",
    "\n",
    "\n"
   ]
  }
 ],
 "metadata": {
  "kernelspec": {
   "display_name": "Python 2",
   "language": "python",
   "name": "python2"
  },
  "language_info": {
   "codemirror_mode": {
    "name": "ipython",
    "version": 2
   },
   "file_extension": ".py",
   "mimetype": "text/x-python",
   "name": "python",
   "nbconvert_exporter": "python",
   "pygments_lexer": "ipython2",
   "version": "2.7.12"
  }
 },
 "nbformat": 4,
 "nbformat_minor": 2
}
